{
 "cells": [
  {
   "cell_type": "code",
   "execution_count": 7,
   "metadata": {},
   "outputs": [
    {
     "name": "stdout",
     "output_type": "stream",
     "text": [
      "The autoreload extension is already loaded. To reload it, use:\n",
      "  %reload_ext autoreload\n"
     ]
    }
   ],
   "source": [
    "%load_ext autoreload\n",
    "%autoreload 2\n",
    "\n",
    "import numpy as np\n",
    "from pathlib import Path\n",
    "from PIL import Image\n",
    "import torchvision\n",
    "import torchvision.transforms as transforms\n",
    "import torch\n",
    "import torch.nn as nn\n",
    "import torch.utils.data as data\n",
    "\n",
    "from dataset import ImageDataset\n",
    "import networks\n",
    "from utils import train, epoch"
   ]
  },
  {
   "cell_type": "markdown",
   "metadata": {},
   "source": [
    "# Model 1: All Classes"
   ]
  },
  {
   "cell_type": "code",
   "execution_count": null,
   "metadata": {},
   "outputs": [],
   "source": [
    "hres_size = (512, 512)\n",
    "scale_factor = 4\n",
    "\n",
    "train_paths = []\n",
    "for dir in Path('train').glob('**/*'):\n",
    "    train_paths.extend(dir.glob('*.png'))\n",
    "\n",
    "test_paths = []\n",
    "for dir in Path('test').glob('**/*'):\n",
    "    test_paths.extend(dir.glob('*.png'))\n",
    "\n",
    "train_set = ImageDataset(train_paths, hres_size, scale_factor, None)\n",
    "test_set = ImageDataset(test_paths, hres_size, scale_factor, None)"
   ]
  },
  {
   "cell_type": "code",
   "execution_count": 9,
   "metadata": {},
   "outputs": [],
   "source": [
    "batch_size = 16\n",
    "\n",
    "trainloader = data.DataLoader(train_set, batch_size=batch_size, shuffle=True)\n",
    "testloader = data.DataLoader(test_set, batch_size=1, shuffle=False)"
   ]
  },
  {
   "cell_type": "code",
   "execution_count": null,
   "metadata": {},
   "outputs": [],
   "source": [
    "class Args():\n",
    "    device = \"cuda\"\n",
    "    lr_net = 0.005\n",
    "    epoch_eval_train = 20\n",
    "    save_path = Path(f\"results/all\")\n",
    "\n",
    "args = Args()"
   ]
  },
  {
   "cell_type": "code",
   "execution_count": 5,
   "metadata": {},
   "outputs": [
    {
     "name": "stdout",
     "output_type": "stream",
     "text": [
      "Epoch 0\n",
      "Epoch 1\n",
      "Epoch 2\n",
      "Epoch 3\n",
      "Epoch 4\n",
      "Epoch 5\n",
      "Epoch 6\n",
      "Epoch 7\n",
      "Epoch 8\n",
      "Epoch 9\n",
      "Epoch 10\n",
      "Epoch 11\n",
      "Epoch 12\n",
      "Epoch 13\n",
      "Epoch 14\n",
      "Epoch 15\n",
      "Epoch 16\n",
      "Epoch 17\n",
      "Epoch 18\n",
      "Epoch 19\n",
      "Epoch 20\n",
      "[2024-12-05 14:03:13] Evaluate_00: epoch = 0020 train time = 1163 s train loss = 0.002096 test loss = 0.002120\n"
     ]
    },
    {
     "data": {
      "text/plain": [
       "SRCNN(\n",
       "  (conv1): Conv2d(3, 64, kernel_size=(9, 9), stride=(1, 1), padding=(4, 4))\n",
       "  (conv2): Conv2d(64, 32, kernel_size=(1, 1), stride=(1, 1))\n",
       "  (conv3): Conv2d(32, 3, kernel_size=(5, 5), stride=(1, 1), padding=(2, 2))\n",
       "  (relu): ReLU(inplace=True)\n",
       ")"
      ]
     },
     "execution_count": 5,
     "metadata": {},
     "output_type": "execute_result"
    }
   ],
   "source": [
    "net = networks.SRCNN(3, scale_factor)\n",
    "train(0, net, trainloader, testloader, args)"
   ]
  },
  {
   "cell_type": "code",
   "execution_count": 10,
   "metadata": {},
   "outputs": [
    {
     "data": {
      "text/plain": [
       "0.0021199920357993017"
      ]
     },
     "execution_count": 10,
     "metadata": {},
     "output_type": "execute_result"
    }
   ],
   "source": [
    "optimizer = torch.optim.SGD(net.parameters(), lr=float(args.lr_net), momentum=0.9, weight_decay=0.0005)\n",
    "criterion = nn.MSELoss().to(args.device)\n",
    "epoch('test', testloader, net, optimizer, criterion, args)"
   ]
  },
  {
   "cell_type": "markdown",
   "metadata": {},
   "source": [
    "# Model 2: Only Young"
   ]
  },
  {
   "cell_type": "code",
   "execution_count": null,
   "metadata": {},
   "outputs": [],
   "source": [
    "hres_size = (512, 512)\n",
    "scale_factor = 4\n",
    "\n",
    "train_paths = []\n",
    "for dir in Path('train').glob('**/Young*'):\n",
    "    train_paths.extend(dir.glob('*.png'))\n",
    "\n",
    "test_paths = []\n",
    "for dir in Path('test').glob('**/*'):\n",
    "    test_paths.extend(dir.glob('*.png'))\n",
    "\n",
    "train_set = ImageDataset(train_paths, hres_size, scale_factor, None)\n",
    "test_set = ImageDataset(test_paths, hres_size, scale_factor, None)"
   ]
  },
  {
   "cell_type": "code",
   "execution_count": 27,
   "metadata": {},
   "outputs": [],
   "source": [
    "batch_size = 16\n",
    "\n",
    "trainloader = data.DataLoader(train_set, batch_size=batch_size, shuffle=True)\n",
    "testloader = data.DataLoader(test_set, batch_size=1, shuffle=False)"
   ]
  },
  {
   "cell_type": "code",
   "execution_count": null,
   "metadata": {},
   "outputs": [],
   "source": [
    "class Args():\n",
    "    device = \"cuda\"\n",
    "    lr_net = 0.005\n",
    "    epoch_eval_train = 20\n",
    "    save_path = Path(f\"results/half\")\n",
    "\n",
    "args = Args()"
   ]
  },
  {
   "cell_type": "code",
   "execution_count": 29,
   "metadata": {},
   "outputs": [
    {
     "name": "stdout",
     "output_type": "stream",
     "text": [
      "Epoch 0\n",
      "Epoch 1\n",
      "[2024-12-05 15:01:51] Evaluate_00: epoch = 0001 train time = 55 s train loss = 0.007349 test loss = 0.006475\n"
     ]
    },
    {
     "data": {
      "text/plain": [
       "SRCNN(\n",
       "  (conv1): Conv2d(3, 64, kernel_size=(9, 9), stride=(1, 1), padding=(4, 4))\n",
       "  (conv2): Conv2d(64, 32, kernel_size=(1, 1), stride=(1, 1))\n",
       "  (conv3): Conv2d(32, 3, kernel_size=(5, 5), stride=(1, 1), padding=(2, 2))\n",
       "  (relu): ReLU(inplace=True)\n",
       ")"
      ]
     },
     "execution_count": 29,
     "metadata": {},
     "output_type": "execute_result"
    }
   ],
   "source": [
    "net = networks.SRCNN(3, scale_factor)\n",
    "train(0, net, trainloader, testloader, args)"
   ]
  },
  {
   "cell_type": "markdown",
   "metadata": {},
   "source": [
    "# Model 3: Young + 1 Old of each class repeated"
   ]
  },
  {
   "cell_type": "code",
   "execution_count": 35,
   "metadata": {},
   "outputs": [],
   "source": [
    "hres_size = (512, 512)\n",
    "scale_factor = 4\n",
    "\n",
    "train_paths = []\n",
    "for dir in Path('train').glob('**/Young*'):\n",
    "    train_paths.extend(dir.glob('*.png'))\n",
    "class_length = len(train_paths) // 2\n",
    "for dir in Path('train').glob('**/Old*'):\n",
    "    train_paths.extend([list(dir.glob('*.png'))[0]] * class_length)\n",
    "\n",
    "test_paths = []\n",
    "for dir in Path('test').glob('**/*'):\n",
    "    test_paths.extend(dir.glob('*.png'))\n",
    "\n",
    "train_set = ImageDataset(train_paths, hres_size, scale_factor, None)\n",
    "test_set = ImageDataset(test_paths, hres_size, scale_factor, None)"
   ]
  },
  {
   "cell_type": "code",
   "execution_count": 36,
   "metadata": {},
   "outputs": [],
   "source": [
    "batch_size = 16\n",
    "\n",
    "trainloader = data.DataLoader(train_set, batch_size=batch_size, shuffle=True)\n",
    "testloader = data.DataLoader(test_set, batch_size=1, shuffle=False)"
   ]
  },
  {
   "cell_type": "code",
   "execution_count": 37,
   "metadata": {},
   "outputs": [],
   "source": [
    "class Args():\n",
    "    device = \"cuda\"\n",
    "    lr_net = 0.005\n",
    "    epoch_eval_train = 20\n",
    "    save_path = Path(\"results/half+repetition\")\n",
    "\n",
    "args = Args()"
   ]
  },
  {
   "cell_type": "code",
   "execution_count": 38,
   "metadata": {},
   "outputs": [
    {
     "name": "stdout",
     "output_type": "stream",
     "text": [
      "<__main__.Args object at 0x00000297EFA1EEF0>\n",
      "Epoch 0\n",
      "Epoch 1\n",
      "Epoch 2\n",
      "Epoch 3\n",
      "Epoch 4\n",
      "Epoch 5\n",
      "Epoch 6\n",
      "Epoch 7\n",
      "Epoch 8\n",
      "Epoch 9\n",
      "Epoch 10\n",
      "Epoch 11\n",
      "Epoch 12\n",
      "Epoch 13\n",
      "Epoch 14\n",
      "Epoch 15\n",
      "Epoch 16\n",
      "Epoch 17\n",
      "Epoch 18\n",
      "Epoch 19\n",
      "Epoch 20\n",
      "[2024-12-05 15:39:00] Evaluate_00: epoch = 0020 train time = 1166 s train loss = 0.001889 test loss = 0.002295\n"
     ]
    },
    {
     "data": {
      "text/plain": [
       "SRCNN(\n",
       "  (conv1): Conv2d(3, 64, kernel_size=(9, 9), stride=(1, 1), padding=(4, 4))\n",
       "  (conv2): Conv2d(64, 32, kernel_size=(1, 1), stride=(1, 1))\n",
       "  (conv3): Conv2d(32, 3, kernel_size=(5, 5), stride=(1, 1), padding=(2, 2))\n",
       "  (relu): ReLU(inplace=True)\n",
       ")"
      ]
     },
     "execution_count": 38,
     "metadata": {},
     "output_type": "execute_result"
    }
   ],
   "source": [
    "net = networks.SRCNN(3, scale_factor)\n",
    "train(0, net, trainloader, testloader, args)"
   ]
  },
  {
   "cell_type": "markdown",
   "metadata": {},
   "source": [
    "# Predicting"
   ]
  },
  {
   "cell_type": "code",
   "execution_count": 42,
   "metadata": {},
   "outputs": [],
   "source": [
    "image_dir = Path('results/all')\n",
    "\n",
    "image_paths = []\n",
    "for dir in image_dir.glob('**/*'):\n",
    "    image_paths.extend(dir.glob('*.png'))\n",
    "\n",
    "with open(image_dir / \"images.csv\", 'w') as f:\n",
    "    f.write(\"img_path\\n\")\n",
    "    for image_path in image_paths:\n",
    "        f.write(f\"{image_path}\\n\")"
   ]
  },
  {
   "cell_type": "code",
   "execution_count": 44,
   "metadata": {},
   "outputs": [],
   "source": [
    "image_dir = Path('results/half')\n",
    "\n",
    "image_paths = []\n",
    "for dir in image_dir.glob('**/*'):\n",
    "    image_paths.extend(dir.glob('*.png'))\n",
    "\n",
    "with open(image_dir / \"images.csv\", 'w') as f:\n",
    "    f.write(\"img_path\\n\")\n",
    "    for image_path in image_paths:\n",
    "        f.write(f\"{image_path}\\n\")"
   ]
  },
  {
   "cell_type": "code",
   "execution_count": 45,
   "metadata": {},
   "outputs": [],
   "source": [
    "image_dir = Path('results/half+repetition')\n",
    "\n",
    "image_paths = []\n",
    "for dir in image_dir.glob('**/*'):\n",
    "    image_paths.extend(dir.glob('*.png'))\n",
    "\n",
    "with open(image_dir / \"images.csv\", 'w') as f:\n",
    "    f.write(\"img_path\\n\")\n",
    "    for image_path in image_paths:\n",
    "        f.write(f\"{image_path}\\n\")"
   ]
  }
 ],
 "metadata": {
  "kernelspec": {
   "display_name": "Python 3",
   "language": "python",
   "name": "python3"
  },
  "language_info": {
   "codemirror_mode": {
    "name": "ipython",
    "version": 3
   },
   "file_extension": ".py",
   "mimetype": "text/x-python",
   "name": "python",
   "nbconvert_exporter": "python",
   "pygments_lexer": "ipython3",
   "version": "3.10.5"
  }
 },
 "nbformat": 4,
 "nbformat_minor": 2
}
