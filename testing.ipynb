{
 "cells": [
  {
   "cell_type": "code",
   "execution_count": 22,
   "metadata": {},
   "outputs": [
    {
     "name": "stdout",
     "output_type": "stream",
     "text": [
      "The autoreload extension is already loaded. To reload it, use:\n",
      "  %reload_ext autoreload\n"
     ]
    }
   ],
   "source": [
    "%load_ext autoreload\n",
    "%autoreload 2\n",
    "\n",
    "import tensorflow as tf\n",
    "import cv2\n",
    "import numpy as np"
   ]
  },
  {
   "cell_type": "code",
   "execution_count": 7,
   "metadata": {},
   "outputs": [],
   "source": [
    "def parse_tfrecord_tf(record):\n",
    "    features = tf.io.parse_single_example(record, features={\n",
    "        'shape': tf.io.FixedLenFeature([3], tf.int64),\n",
    "        'data': tf.io.FixedLenFeature([], tf.string)})\n",
    "    data = tf.io.decode_raw(features['data'], tf.uint8)\n",
    "    print(features['shape'])\n",
    "    return tf.reshape(data, features['shape'])"
   ]
  },
  {
   "cell_type": "code",
   "execution_count": 28,
   "metadata": {},
   "outputs": [
    {
     "name": "stdout",
     "output_type": "stream",
     "text": [
      "tf.Tensor([  3 512 512], shape=(3,), dtype=int64)\n",
      "tf.Tensor([  3 512 512], shape=(3,), dtype=int64)\n",
      "tf.Tensor([  3 512 512], shape=(3,), dtype=int64)\n",
      "tf.Tensor([  3 512 512], shape=(3,), dtype=int64)\n",
      "tf.Tensor([  3 512 512], shape=(3,), dtype=int64)\n",
      "tf.Tensor([  3 512 512], shape=(3,), dtype=int64)\n",
      "tf.Tensor([  3 512 512], shape=(3,), dtype=int64)\n",
      "tf.Tensor([  3 512 512], shape=(3,), dtype=int64)\n",
      "tf.Tensor([  3 512 512], shape=(3,), dtype=int64)\n",
      "tf.Tensor([  3 512 512], shape=(3,), dtype=int64)\n",
      "tf.Tensor([  3 512 512], shape=(3,), dtype=int64)\n",
      "tf.Tensor([  3 512 512], shape=(3,), dtype=int64)\n",
      "tf.Tensor([  3 512 512], shape=(3,), dtype=int64)\n",
      "tf.Tensor([  3 512 512], shape=(3,), dtype=int64)\n",
      "tf.Tensor([  3 512 512], shape=(3,), dtype=int64)\n",
      "tf.Tensor([  3 512 512], shape=(3,), dtype=int64)\n",
      "tf.Tensor([  3 512 512], shape=(3,), dtype=int64)\n",
      "tf.Tensor([  3 512 512], shape=(3,), dtype=int64)\n",
      "tf.Tensor([  3 512 512], shape=(3,), dtype=int64)\n",
      "tf.Tensor([  3 512 512], shape=(3,), dtype=int64)\n",
      "tf.Tensor([  3 512 512], shape=(3,), dtype=int64)\n",
      "tf.Tensor([  3 512 512], shape=(3,), dtype=int64)\n",
      "tf.Tensor([  3 512 512], shape=(3,), dtype=int64)\n",
      "tf.Tensor([  3 512 512], shape=(3,), dtype=int64)\n",
      "tf.Tensor([  3 512 512], shape=(3,), dtype=int64)\n",
      "tf.Tensor([  3 512 512], shape=(3,), dtype=int64)\n",
      "tf.Tensor([  3 512 512], shape=(3,), dtype=int64)\n",
      "tf.Tensor([  3 512 512], shape=(3,), dtype=int64)\n",
      "tf.Tensor([  3 512 512], shape=(3,), dtype=int64)\n",
      "tf.Tensor([  3 512 512], shape=(3,), dtype=int64)\n",
      "tf.Tensor([  3 512 512], shape=(3,), dtype=int64)\n",
      "tf.Tensor([  3 512 512], shape=(3,), dtype=int64)\n",
      "tf.Tensor([  3 512 512], shape=(3,), dtype=int64)\n",
      "tf.Tensor([  3 512 512], shape=(3,), dtype=int64)\n",
      "tf.Tensor([  3 512 512], shape=(3,), dtype=int64)\n",
      "tf.Tensor([  3 512 512], shape=(3,), dtype=int64)\n",
      "tf.Tensor([  3 512 512], shape=(3,), dtype=int64)\n",
      "tf.Tensor([  3 512 512], shape=(3,), dtype=int64)\n",
      "tf.Tensor([  3 512 512], shape=(3,), dtype=int64)\n",
      "tf.Tensor([  3 512 512], shape=(3,), dtype=int64)\n",
      "tf.Tensor([  3 512 512], shape=(3,), dtype=int64)\n",
      "tf.Tensor([  3 512 512], shape=(3,), dtype=int64)\n",
      "tf.Tensor([  3 512 512], shape=(3,), dtype=int64)\n",
      "tf.Tensor([  3 512 512], shape=(3,), dtype=int64)\n",
      "tf.Tensor([  3 512 512], shape=(3,), dtype=int64)\n",
      "tf.Tensor([  3 512 512], shape=(3,), dtype=int64)\n",
      "tf.Tensor([  3 512 512], shape=(3,), dtype=int64)\n",
      "tf.Tensor([  3 512 512], shape=(3,), dtype=int64)\n",
      "tf.Tensor([  3 512 512], shape=(3,), dtype=int64)\n",
      "tf.Tensor([  3 512 512], shape=(3,), dtype=int64)\n",
      "tf.Tensor([  3 512 512], shape=(3,), dtype=int64)\n",
      "tf.Tensor([  3 512 512], shape=(3,), dtype=int64)\n",
      "tf.Tensor([  3 512 512], shape=(3,), dtype=int64)\n",
      "tf.Tensor([  3 512 512], shape=(3,), dtype=int64)\n",
      "tf.Tensor([  3 512 512], shape=(3,), dtype=int64)\n",
      "tf.Tensor([  3 512 512], shape=(3,), dtype=int64)\n",
      "tf.Tensor([  3 512 512], shape=(3,), dtype=int64)\n",
      "tf.Tensor([  3 512 512], shape=(3,), dtype=int64)\n",
      "tf.Tensor([  3 512 512], shape=(3,), dtype=int64)\n",
      "tf.Tensor([  3 512 512], shape=(3,), dtype=int64)\n",
      "tf.Tensor([  3 512 512], shape=(3,), dtype=int64)\n",
      "tf.Tensor([  3 512 512], shape=(3,), dtype=int64)\n",
      "tf.Tensor([  3 512 512], shape=(3,), dtype=int64)\n",
      "tf.Tensor([  3 512 512], shape=(3,), dtype=int64)\n",
      "tf.Tensor([  3 512 512], shape=(3,), dtype=int64)\n",
      "tf.Tensor([  3 512 512], shape=(3,), dtype=int64)\n",
      "tf.Tensor([  3 512 512], shape=(3,), dtype=int64)\n",
      "tf.Tensor([  3 512 512], shape=(3,), dtype=int64)\n",
      "tf.Tensor([  3 512 512], shape=(3,), dtype=int64)\n",
      "tf.Tensor([  3 512 512], shape=(3,), dtype=int64)\n",
      "tf.Tensor([  3 512 512], shape=(3,), dtype=int64)\n",
      "tf.Tensor([  3 512 512], shape=(3,), dtype=int64)\n",
      "tf.Tensor([  3 512 512], shape=(3,), dtype=int64)\n",
      "tf.Tensor([  3 512 512], shape=(3,), dtype=int64)\n",
      "tf.Tensor([  3 512 512], shape=(3,), dtype=int64)\n",
      "tf.Tensor([  3 512 512], shape=(3,), dtype=int64)\n",
      "tf.Tensor([  3 512 512], shape=(3,), dtype=int64)\n",
      "tf.Tensor([  3 512 512], shape=(3,), dtype=int64)\n",
      "tf.Tensor([  3 512 512], shape=(3,), dtype=int64)\n",
      "tf.Tensor([  3 512 512], shape=(3,), dtype=int64)\n",
      "tf.Tensor([  3 512 512], shape=(3,), dtype=int64)\n",
      "tf.Tensor([  3 512 512], shape=(3,), dtype=int64)\n",
      "tf.Tensor([  3 512 512], shape=(3,), dtype=int64)\n",
      "tf.Tensor([  3 512 512], shape=(3,), dtype=int64)\n",
      "tf.Tensor([  3 512 512], shape=(3,), dtype=int64)\n",
      "tf.Tensor([  3 512 512], shape=(3,), dtype=int64)\n",
      "tf.Tensor([  3 512 512], shape=(3,), dtype=int64)\n",
      "tf.Tensor([  3 512 512], shape=(3,), dtype=int64)\n",
      "tf.Tensor([  3 512 512], shape=(3,), dtype=int64)\n",
      "tf.Tensor([  3 512 512], shape=(3,), dtype=int64)\n",
      "tf.Tensor([  3 512 512], shape=(3,), dtype=int64)\n",
      "tf.Tensor([  3 512 512], shape=(3,), dtype=int64)\n",
      "tf.Tensor([  3 512 512], shape=(3,), dtype=int64)\n",
      "tf.Tensor([  3 512 512], shape=(3,), dtype=int64)\n",
      "tf.Tensor([  3 512 512], shape=(3,), dtype=int64)\n",
      "tf.Tensor([  3 512 512], shape=(3,), dtype=int64)\n",
      "tf.Tensor([  3 512 512], shape=(3,), dtype=int64)\n",
      "tf.Tensor([  3 512 512], shape=(3,), dtype=int64)\n",
      "tf.Tensor([  3 512 512], shape=(3,), dtype=int64)\n",
      "tf.Tensor([  3 512 512], shape=(3,), dtype=int64)\n"
     ]
    }
   ],
   "source": [
    "raw_dataset = tf.data.TFRecordDataset(\"./celebahq/celebahq-r09.tfrecords\")\n",
    "\n",
    "for i, raw_record in enumerate(raw_dataset.take(100)):\n",
    "    image_raw = tf.transpose(parse_tfrecord_tf(raw_record), [1, 2, 0]).numpy()\n",
    "    image_raw = np.flip(image_raw, 2)\n",
    "    #print(image_raw)\n",
    "    cv2.imwrite(f\"img{i}.jpg\", image_raw)"
   ]
  }
 ],
 "metadata": {
  "kernelspec": {
   "display_name": "py39",
   "language": "python",
   "name": "python3"
  },
  "language_info": {
   "codemirror_mode": {
    "name": "ipython",
    "version": 3
   },
   "file_extension": ".py",
   "mimetype": "text/x-python",
   "name": "python",
   "nbconvert_exporter": "python",
   "pygments_lexer": "ipython3",
   "version": "3.9.20"
  }
 },
 "nbformat": 4,
 "nbformat_minor": 2
}
